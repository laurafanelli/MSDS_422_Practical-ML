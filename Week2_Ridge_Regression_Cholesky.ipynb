{
 "cells": [
  {
   "cell_type": "markdown",
   "metadata": {},
   "source": [
    "**Assignment 2: Evaluating Regression Models**\n",
    "\n",
    "Group 3: Laura Fanelli, Mark Schieble, John Vaughan, Katie Zink"
   ]
  },
  {
   "cell_type": "markdown",
   "metadata": {},
   "source": [
    "## Data Preparation, Exploration & Visualization"
   ]
  },
  {
   "cell_type": "code",
   "execution_count": 1,
   "metadata": {},
   "outputs": [],
   "source": [
    "#import packages  \n",
    "import pandas as pd\n",
    "import numpy as np\n",
    "#pip install altair vega_datasets\n",
    "import altair as alt\n",
    "import matplotlib.pyplot as plt\n",
    "%matplotlib inline"
   ]
  },
  {
   "cell_type": "code",
   "execution_count": 2,
   "metadata": {},
   "outputs": [],
   "source": [
    "#data path\n",
    "path_test = \"C:/Users/ly580d/Desktop/Northwestern/7_Practical Machine Learning/Week 2/test.csv\"\n",
    "path_train = \"C:/Users/ly580d/Desktop/Northwestern/7_Practical Machine Learning/Week 2/train.csv\"\n",
    "\n",
    "#read data\n",
    "df_test = pd.read_csv(path_test)\n",
    "df_train = pd.read_csv(path_train)\n"
   ]
  },
  {
   "cell_type": "code",
   "execution_count": 3,
   "metadata": {},
   "outputs": [
    {
     "data": {
      "text/html": [
       "<div>\n",
       "<style scoped>\n",
       "    .dataframe tbody tr th:only-of-type {\n",
       "        vertical-align: middle;\n",
       "    }\n",
       "\n",
       "    .dataframe tbody tr th {\n",
       "        vertical-align: top;\n",
       "    }\n",
       "\n",
       "    .dataframe thead th {\n",
       "        text-align: right;\n",
       "    }\n",
       "</style>\n",
       "<table border=\"1\" class=\"dataframe\">\n",
       "  <thead>\n",
       "    <tr style=\"text-align: right;\">\n",
       "      <th></th>\n",
       "      <th>Id</th>\n",
       "      <th>MSSubClass</th>\n",
       "      <th>MSZoning</th>\n",
       "      <th>LotFrontage</th>\n",
       "      <th>LotArea</th>\n",
       "      <th>Street</th>\n",
       "      <th>Alley</th>\n",
       "      <th>LotShape</th>\n",
       "      <th>LandContour</th>\n",
       "      <th>Utilities</th>\n",
       "      <th>...</th>\n",
       "      <th>PoolArea</th>\n",
       "      <th>PoolQC</th>\n",
       "      <th>Fence</th>\n",
       "      <th>MiscFeature</th>\n",
       "      <th>MiscVal</th>\n",
       "      <th>MoSold</th>\n",
       "      <th>YrSold</th>\n",
       "      <th>SaleType</th>\n",
       "      <th>SaleCondition</th>\n",
       "      <th>SalePrice</th>\n",
       "    </tr>\n",
       "  </thead>\n",
       "  <tbody>\n",
       "    <tr>\n",
       "      <th>0</th>\n",
       "      <td>1</td>\n",
       "      <td>60</td>\n",
       "      <td>RL</td>\n",
       "      <td>65.0</td>\n",
       "      <td>8450</td>\n",
       "      <td>Pave</td>\n",
       "      <td>NaN</td>\n",
       "      <td>Reg</td>\n",
       "      <td>Lvl</td>\n",
       "      <td>AllPub</td>\n",
       "      <td>...</td>\n",
       "      <td>0</td>\n",
       "      <td>NaN</td>\n",
       "      <td>NaN</td>\n",
       "      <td>NaN</td>\n",
       "      <td>0</td>\n",
       "      <td>2</td>\n",
       "      <td>2008</td>\n",
       "      <td>WD</td>\n",
       "      <td>Normal</td>\n",
       "      <td>208500</td>\n",
       "    </tr>\n",
       "    <tr>\n",
       "      <th>1</th>\n",
       "      <td>2</td>\n",
       "      <td>20</td>\n",
       "      <td>RL</td>\n",
       "      <td>80.0</td>\n",
       "      <td>9600</td>\n",
       "      <td>Pave</td>\n",
       "      <td>NaN</td>\n",
       "      <td>Reg</td>\n",
       "      <td>Lvl</td>\n",
       "      <td>AllPub</td>\n",
       "      <td>...</td>\n",
       "      <td>0</td>\n",
       "      <td>NaN</td>\n",
       "      <td>NaN</td>\n",
       "      <td>NaN</td>\n",
       "      <td>0</td>\n",
       "      <td>5</td>\n",
       "      <td>2007</td>\n",
       "      <td>WD</td>\n",
       "      <td>Normal</td>\n",
       "      <td>181500</td>\n",
       "    </tr>\n",
       "    <tr>\n",
       "      <th>2</th>\n",
       "      <td>3</td>\n",
       "      <td>60</td>\n",
       "      <td>RL</td>\n",
       "      <td>68.0</td>\n",
       "      <td>11250</td>\n",
       "      <td>Pave</td>\n",
       "      <td>NaN</td>\n",
       "      <td>IR1</td>\n",
       "      <td>Lvl</td>\n",
       "      <td>AllPub</td>\n",
       "      <td>...</td>\n",
       "      <td>0</td>\n",
       "      <td>NaN</td>\n",
       "      <td>NaN</td>\n",
       "      <td>NaN</td>\n",
       "      <td>0</td>\n",
       "      <td>9</td>\n",
       "      <td>2008</td>\n",
       "      <td>WD</td>\n",
       "      <td>Normal</td>\n",
       "      <td>223500</td>\n",
       "    </tr>\n",
       "  </tbody>\n",
       "</table>\n",
       "<p>3 rows × 81 columns</p>\n",
       "</div>"
      ],
      "text/plain": [
       "   Id  MSSubClass MSZoning  LotFrontage  LotArea Street Alley LotShape  \\\n",
       "0   1          60       RL         65.0     8450   Pave   NaN      Reg   \n",
       "1   2          20       RL         80.0     9600   Pave   NaN      Reg   \n",
       "2   3          60       RL         68.0    11250   Pave   NaN      IR1   \n",
       "\n",
       "  LandContour Utilities    ...     PoolArea PoolQC Fence MiscFeature MiscVal  \\\n",
       "0         Lvl    AllPub    ...            0    NaN   NaN         NaN       0   \n",
       "1         Lvl    AllPub    ...            0    NaN   NaN         NaN       0   \n",
       "2         Lvl    AllPub    ...            0    NaN   NaN         NaN       0   \n",
       "\n",
       "  MoSold YrSold  SaleType  SaleCondition  SalePrice  \n",
       "0      2   2008        WD         Normal     208500  \n",
       "1      5   2007        WD         Normal     181500  \n",
       "2      9   2008        WD         Normal     223500  \n",
       "\n",
       "[3 rows x 81 columns]"
      ]
     },
     "execution_count": 3,
     "metadata": {},
     "output_type": "execute_result"
    }
   ],
   "source": [
    "#lets take a look at the data\n",
    "df_train.head(3)"
   ]
  },
  {
   "cell_type": "code",
   "execution_count": 4,
   "metadata": {},
   "outputs": [
    {
     "data": {
      "text/html": [
       "<div>\n",
       "<style scoped>\n",
       "    .dataframe tbody tr th:only-of-type {\n",
       "        vertical-align: middle;\n",
       "    }\n",
       "\n",
       "    .dataframe tbody tr th {\n",
       "        vertical-align: top;\n",
       "    }\n",
       "\n",
       "    .dataframe thead th {\n",
       "        text-align: right;\n",
       "    }\n",
       "</style>\n",
       "<table border=\"1\" class=\"dataframe\">\n",
       "  <thead>\n",
       "    <tr style=\"text-align: right;\">\n",
       "      <th></th>\n",
       "      <th>Id</th>\n",
       "      <th>MSSubClass</th>\n",
       "      <th>MSZoning</th>\n",
       "      <th>LotFrontage</th>\n",
       "      <th>LotArea</th>\n",
       "      <th>Street</th>\n",
       "      <th>Alley</th>\n",
       "      <th>LotShape</th>\n",
       "      <th>LandContour</th>\n",
       "      <th>Utilities</th>\n",
       "      <th>...</th>\n",
       "      <th>ScreenPorch</th>\n",
       "      <th>PoolArea</th>\n",
       "      <th>PoolQC</th>\n",
       "      <th>Fence</th>\n",
       "      <th>MiscFeature</th>\n",
       "      <th>MiscVal</th>\n",
       "      <th>MoSold</th>\n",
       "      <th>YrSold</th>\n",
       "      <th>SaleType</th>\n",
       "      <th>SaleCondition</th>\n",
       "    </tr>\n",
       "  </thead>\n",
       "  <tbody>\n",
       "    <tr>\n",
       "      <th>0</th>\n",
       "      <td>1461</td>\n",
       "      <td>20</td>\n",
       "      <td>RH</td>\n",
       "      <td>80.0</td>\n",
       "      <td>11622</td>\n",
       "      <td>Pave</td>\n",
       "      <td>NaN</td>\n",
       "      <td>Reg</td>\n",
       "      <td>Lvl</td>\n",
       "      <td>AllPub</td>\n",
       "      <td>...</td>\n",
       "      <td>120</td>\n",
       "      <td>0</td>\n",
       "      <td>NaN</td>\n",
       "      <td>MnPrv</td>\n",
       "      <td>NaN</td>\n",
       "      <td>0</td>\n",
       "      <td>6</td>\n",
       "      <td>2010</td>\n",
       "      <td>WD</td>\n",
       "      <td>Normal</td>\n",
       "    </tr>\n",
       "    <tr>\n",
       "      <th>1</th>\n",
       "      <td>1462</td>\n",
       "      <td>20</td>\n",
       "      <td>RL</td>\n",
       "      <td>81.0</td>\n",
       "      <td>14267</td>\n",
       "      <td>Pave</td>\n",
       "      <td>NaN</td>\n",
       "      <td>IR1</td>\n",
       "      <td>Lvl</td>\n",
       "      <td>AllPub</td>\n",
       "      <td>...</td>\n",
       "      <td>0</td>\n",
       "      <td>0</td>\n",
       "      <td>NaN</td>\n",
       "      <td>NaN</td>\n",
       "      <td>Gar2</td>\n",
       "      <td>12500</td>\n",
       "      <td>6</td>\n",
       "      <td>2010</td>\n",
       "      <td>WD</td>\n",
       "      <td>Normal</td>\n",
       "    </tr>\n",
       "    <tr>\n",
       "      <th>2</th>\n",
       "      <td>1463</td>\n",
       "      <td>60</td>\n",
       "      <td>RL</td>\n",
       "      <td>74.0</td>\n",
       "      <td>13830</td>\n",
       "      <td>Pave</td>\n",
       "      <td>NaN</td>\n",
       "      <td>IR1</td>\n",
       "      <td>Lvl</td>\n",
       "      <td>AllPub</td>\n",
       "      <td>...</td>\n",
       "      <td>0</td>\n",
       "      <td>0</td>\n",
       "      <td>NaN</td>\n",
       "      <td>MnPrv</td>\n",
       "      <td>NaN</td>\n",
       "      <td>0</td>\n",
       "      <td>3</td>\n",
       "      <td>2010</td>\n",
       "      <td>WD</td>\n",
       "      <td>Normal</td>\n",
       "    </tr>\n",
       "  </tbody>\n",
       "</table>\n",
       "<p>3 rows × 80 columns</p>\n",
       "</div>"
      ],
      "text/plain": [
       "     Id  MSSubClass MSZoning  LotFrontage  LotArea Street Alley LotShape  \\\n",
       "0  1461          20       RH         80.0    11622   Pave   NaN      Reg   \n",
       "1  1462          20       RL         81.0    14267   Pave   NaN      IR1   \n",
       "2  1463          60       RL         74.0    13830   Pave   NaN      IR1   \n",
       "\n",
       "  LandContour Utilities      ...       ScreenPorch PoolArea PoolQC  Fence  \\\n",
       "0         Lvl    AllPub      ...               120        0    NaN  MnPrv   \n",
       "1         Lvl    AllPub      ...                 0        0    NaN    NaN   \n",
       "2         Lvl    AllPub      ...                 0        0    NaN  MnPrv   \n",
       "\n",
       "  MiscFeature MiscVal MoSold  YrSold  SaleType  SaleCondition  \n",
       "0         NaN       0      6    2010        WD         Normal  \n",
       "1        Gar2   12500      6    2010        WD         Normal  \n",
       "2         NaN       0      3    2010        WD         Normal  \n",
       "\n",
       "[3 rows x 80 columns]"
      ]
     },
     "execution_count": 4,
     "metadata": {},
     "output_type": "execute_result"
    }
   ],
   "source": [
    "#Ensure that the test data is similar to the training set \n",
    "df_test.head(3)"
   ]
  },
  {
   "cell_type": "code",
   "execution_count": 5,
   "metadata": {},
   "outputs": [],
   "source": [
    "#the data ID will be used by Keggle to scare the final submission. To retain the ID, we will set the ID as the index\n",
    "df_test = df_test.set_index('Id') # Set ID as index on the test data \n",
    "\n",
    "df_train = df_train.set_index('Id') # Set ID as index on the training data "
   ]
  },
  {
   "cell_type": "code",
   "execution_count": 6,
   "metadata": {},
   "outputs": [
    {
     "data": {
      "image/png": "[encoded data removed]",
      "text/plain": [
       "<Figure size 1440x1080 with 42 Axes>"
      ]
     },
     "metadata": {},
     "output_type": "display_data"
    }
   ],
   "source": [
    "#histogram of each numerical attribute\n",
    "%matplotlib inline \n",
    "import matplotlib.pyplot as plt\n",
    "df_train.hist(bins=50, figsize=(20,15))\n",
    "plt.show()"
   ]
  },
  {
   "cell_type": "code",
   "execution_count": 7,
   "metadata": {},
   "outputs": [],
   "source": [
    "#feature creation - Total Floor SF\n",
    "df_train['TotalFloorSF']=df_train['1stFlrSF']+df_train['2ndFlrSF']\n",
    "df_test['TotalFloorSF']=df_test['1stFlrSF']+df_test['2ndFlrSF']"
   ]
  },
  {
   "cell_type": "code",
   "execution_count": 8,
   "metadata": {},
   "outputs": [],
   "source": [
    "#feature creation - Quality Index\n",
    "df_train['QualityIndex']=df_train['OverallQual']*df_train['OverallCond']\n",
    "df_test['QualityIndex']=df_test['OverallQual']*df_test['OverallCond']"
   ]
  },
  {
   "cell_type": "code",
   "execution_count": 9,
   "metadata": {},
   "outputs": [],
   "source": [
    "# To fix the large number of catagorical variables, we can use SKlearn's label encoder. \n",
    "#This takes each catagory and replaces it with a numerical reference. This enables the Algorithm to read the data easier.\n",
    "def encode_cat_var(df):\n",
    "    from sklearn.preprocessing import LabelEncoder\n",
    "    Label_Encoder = LabelEncoder()\n",
    "    cat_list = df.select_dtypes(include=['object']).columns.tolist()\n",
    "    for column in cat_list:\n",
    "        df[column] = Label_Encoder.fit_transform(df[column].astype('str'))\n",
    "    return df"
   ]
  },
  {
   "cell_type": "code",
   "execution_count": 10,
   "metadata": {},
   "outputs": [],
   "source": [
    "df_train = encode_cat_var(df_train) #apply to train\n",
    "df_test = encode_cat_var(df_test) #apply to test"
   ]
  },
  {
   "cell_type": "code",
   "execution_count": 11,
   "metadata": {},
   "outputs": [
    {
     "data": {
      "text/plain": [
       "SalePrice        1.000000\n",
       "OverallQual      0.790982\n",
       "TotalFloorSF     0.716883\n",
       "GrLivArea        0.708624\n",
       "GarageCars       0.640409\n",
       "GarageArea       0.623431\n",
       "TotalBsmtSF      0.613581\n",
       "1stFlrSF         0.605852\n",
       "QualityIndex     0.565294\n",
       "FullBath         0.560664\n",
       "TotRmsAbvGrd     0.533723\n",
       "YearBuilt        0.522897\n",
       "YearRemodAdd     0.507101\n",
       "GarageYrBlt      0.486362\n",
       "MasVnrArea       0.477493\n",
       "Fireplaces       0.466929\n",
       "BsmtFinSF1       0.386420\n",
       "Foundation       0.382479\n",
       "LotFrontage      0.351799\n",
       "WoodDeckSF       0.324413\n",
       "2ndFlrSF         0.319334\n",
       "OpenPorchSF      0.315856\n",
       "HalfBath         0.284108\n",
       "LotArea          0.263843\n",
       "CentralAir       0.251328\n",
       "Electrical       0.234716\n",
       "PavedDrive       0.231357\n",
       "BsmtFullBath     0.227122\n",
       "RoofStyle        0.222405\n",
       "BsmtUnfSF        0.214479\n",
       "                   ...   \n",
       "BsmtCond         0.015058\n",
       "BsmtFinType2     0.008041\n",
       "Condition2       0.007513\n",
       "GarageQual       0.006861\n",
       "BsmtFinSF2      -0.011378\n",
       "Utilities       -0.014314\n",
       "BsmtHalfBath    -0.016844\n",
       "MiscVal         -0.021190\n",
       "LowQualFinSF    -0.025606\n",
       "YrSold          -0.028923\n",
       "SaleType        -0.054911\n",
       "LotConfig       -0.067396\n",
       "OverallCond     -0.077856\n",
       "MSSubClass      -0.084284\n",
       "BldgType        -0.085591\n",
       "Heating         -0.098812\n",
       "BsmtFinType1    -0.103114\n",
       "PoolQC          -0.126070\n",
       "EnclosedPorch   -0.128578\n",
       "KitchenAbvGr    -0.135907\n",
       "MSZoning        -0.166872\n",
       "LotShape        -0.255580\n",
       "BsmtExposure    -0.309043\n",
       "HeatingQC       -0.400178\n",
       "GarageType      -0.415283\n",
       "FireplaceQu     -0.459605\n",
       "GarageFinish    -0.549247\n",
       "KitchenQual     -0.589189\n",
       "BsmtQual        -0.620886\n",
       "ExterQual       -0.636884\n",
       "Name: SalePrice, Length: 82, dtype: float64"
      ]
     },
     "execution_count": 11,
     "metadata": {},
     "output_type": "execute_result"
    }
   ],
   "source": [
    "#correlation between each attribute and our response variable SalePrice\n",
    "corr_matrix = df_train.corr()\n",
    "corr_matrix[\"SalePrice\"].sort_values(ascending=False)"
   ]
  },
  {
   "cell_type": "code",
   "execution_count": 12,
   "metadata": {},
   "outputs": [],
   "source": [
    "# function to fill missing values from list. Note, this was retired in the final version of the notebook\n",
    "column_list = ['GarageCars']\n",
    "def fill_missing_values(column_list, df):\n",
    "    for column in column_list:\n",
    "        df[column] = df[column].fillna(value=0,inplace=True)\n",
    "    return df"
   ]
  },
  {
   "cell_type": "code",
   "execution_count": 13,
   "metadata": {},
   "outputs": [],
   "source": [
    "#clean dataframe function\n",
    "def clean_df(df):\n",
    "    assert isinstance(df, pd.DataFrame)\n",
    "    df.fillna(value=0,inplace=True)\n",
    "    indices_to_keep = ~df.isin([np.nan, np.inf, -np.inf]).any(1)\n",
    "    return df[indices_to_keep].astype(np.float64)"
   ]
  },
  {
   "cell_type": "code",
   "execution_count": 14,
   "metadata": {},
   "outputs": [],
   "source": [
    "df_train = clean_df(df_train) #apply to train\n",
    "df_test = clean_df(df_test) #apply to test"
   ]
  },
  {
   "cell_type": "markdown",
   "metadata": {},
   "source": [
    "## Review research design and modeling methods"
   ]
  },
  {
   "cell_type": "code",
   "execution_count": 15,
   "metadata": {},
   "outputs": [],
   "source": [
    "#split the data into a test and train datasets. SalePrice is the y variable. \n",
    "from sklearn.model_selection import train_test_split\n",
    "\n",
    "X = df_train.drop(['SalePrice'], axis=1)\n",
    "y = df_train['SalePrice'].values\n",
    "X_train, X_val, y_train, y_val = train_test_split(X, y)"
   ]
  },
  {
   "cell_type": "code",
   "execution_count": 16,
   "metadata": {},
   "outputs": [
    {
     "name": "stderr",
     "output_type": "stream",
     "text": [
      "C:\\Users\\ly580d\\AppData\\Local\\Continuum\\anaconda3\\lib\\site-packages\\sklearn\\linear_model\\coordinate_descent.py:491: ConvergenceWarning: Objective did not converge. You might want to increase the number of iterations. Fitting data with very small alpha may cause precision problems.\n",
      "  ConvergenceWarning)\n"
     ]
    }
   ],
   "source": [
    "#To Refine the model, we can adjust the number of features used. However, in adjusting, we only want the most important features.\n",
    "#We can use a lasso model to rank features, and take only the variables most likely to predict sale price\n",
    "from sklearn.linear_model import Lasso\n",
    "\n",
    "model = Lasso(alpha=0.01)\n",
    "model.fit(X_train,y_train)\n",
    "\n",
    "feature_importance_test = pd.DataFrame(data=model.coef_,\n",
    "                                       columns=['feature_importance'], \n",
    "                                       index = X_train.columns).sort_values(by='feature_importance', \n",
    "                                                                            ascending=False)\n",
    "\n",
    "feature_importance_test = feature_importance_test[feature_importance_test['feature_importance'] != 0] #Note, this can be change to greater or less than \n",
    "#feature_importance_test.index.to_list()[:10] # unhide to see top features "
   ]
  },
  {
   "cell_type": "code",
   "execution_count": 17,
   "metadata": {},
   "outputs": [],
   "source": [
    "#Change the the value as needed - this will directly impact the model features. \n",
    "# top_features = feature_importance_test.index.to_list()[:30] \n",
    "\n",
    "#original syntax failed for me -- had to convert to list this way \n",
    "top_features = feature_importance_test\n",
    "top_features = top_features.index.tolist()\n",
    "# top_features"
   ]
  },
  {
   "cell_type": "code",
   "execution_count": 18,
   "metadata": {},
   "outputs": [],
   "source": [
    "X = df_train[top_features] #Filter out all non top features"
   ]
  },
  {
   "cell_type": "code",
   "execution_count": 19,
   "metadata": {},
   "outputs": [],
   "source": [
    "#random number generator - to generate the same shuffled indices \n",
    "np.random.seed(42)"
   ]
  },
  {
   "cell_type": "code",
   "execution_count": 20,
   "metadata": {},
   "outputs": [],
   "source": [
    "#test train split for the model \n",
    "from sklearn.model_selection import train_test_split\n",
    "X_train, X_test, y_train, y_test = train_test_split(X, y, test_size=0.3)"
   ]
  },
  {
   "cell_type": "code",
   "execution_count": 21,
   "metadata": {},
   "outputs": [],
   "source": [
    "#Build metrics to evaluate model performance - We will use RSME and R2 Suared \n",
    "from sklearn import metrics\n",
    "\n",
    "def model_evaluation(true, predicted):  \n",
    "    rmse = np.sqrt(metrics.mean_squared_error(true, predicted))\n",
    "    r2_square = metrics.r2_score(true, predicted)\n",
    "    print('RMSE:', rmse)\n",
    "    print('R2 Square', r2_square)"
   ]
  },
  {
   "cell_type": "markdown",
   "metadata": {},
   "source": [
    "## Review Results & Evaluate Models"
   ]
  },
  {
   "cell_type": "markdown",
   "metadata": {},
   "source": [
    "### Linear Regression"
   ]
  },
  {
   "cell_type": "code",
   "execution_count": 22,
   "metadata": {},
   "outputs": [
    {
     "name": "stdout",
     "output_type": "stream",
     "text": [
      "Linear Regression Model\n",
      "RMSE: 32682.185575487514\n",
      "R2 Square 0.8469316563257491\n"
     ]
    }
   ],
   "source": [
    "#Linear Regression \n",
    "\n",
    "from sklearn.linear_model import LinearRegression\n",
    "\n",
    "print('Linear Regression Model')\n",
    "\n",
    "lin_reg = LinearRegression(normalize=True)\n",
    "lin_reg.fit(X_train,y_train)\n",
    "pred = lin_reg.predict(X_test)\n",
    "\n",
    "model_evaluation(y_test, pred)\n"
   ]
  },
  {
   "cell_type": "code",
   "execution_count": 23,
   "metadata": {},
   "outputs": [
    {
     "data": {
      "text/plain": [
       "(553648.6927592955,\n",
       " array([ 2.05271539e+04,  1.06647639e+04,  1.61035260e+04,  8.34108324e+03,\n",
       "         4.05961395e+03,  1.05031914e+04,  2.77210915e+03,  3.40288138e+03,\n",
       "         2.73633731e+03,  3.80195897e+03,  4.26437851e+03,  4.28866312e+03,\n",
       "         4.44026532e+03,  4.96313921e+03,  1.35109986e+03,  2.56304652e+03,\n",
       "         2.05634234e+03,  1.18042558e+03,  5.12218209e+03,  1.01342321e+03,\n",
       "         3.68508584e+03,  5.46972690e+02,  2.71121489e+02,  7.49700103e+02,\n",
       "         4.17821934e+02, -1.55585407e+02, -7.01503247e+02,  2.09657437e+02,\n",
       "        -7.76988762e+13,  4.28254273e+01, -7.76988762e+13,  6.21827855e+01,\n",
       "         2.90987321e+01,  2.17988425e+01,  1.83196558e+01, -8.13097981e+00,\n",
       "         3.58019247e+13, -1.48516230e+01, -9.25672214e+13,  2.96719680e+00,\n",
       "         3.36991212e-01, -9.25672214e+13, -4.91280480e+00,  9.25672214e+13,\n",
       "        -9.25672214e+13, -8.69956549e+00, -3.58019247e+13,  4.18969515e+13,\n",
       "        -1.37825887e+03, -5.80750640e+01,  5.66452673e+02, -3.38882918e+02,\n",
       "        -1.29411158e+02, -7.69169498e+02, -9.81540825e+04,  9.47225162e+02,\n",
       "        -8.30937687e+01, -2.25496217e+01, -4.92982849e+02, -1.75755900e+03,\n",
       "         1.15527735e+02,  9.19536748e+02, -1.90154808e+03, -8.20268728e+02,\n",
       "        -2.30758102e+03, -5.13087172e+02, -6.92809775e+02, -2.35892390e+03,\n",
       "        -1.64540995e+03, -3.49679176e+02, -8.41533467e+02, -1.48337366e+03,\n",
       "        -9.36897722e+02, -2.79312186e+03, -3.80348362e+03, -8.64151022e+03,\n",
       "        -8.62483128e+03, -1.02692192e+04, -1.52520234e+04, -1.72933528e+04,\n",
       "        -5.61217604e+04]))"
      ]
     },
     "execution_count": 23,
     "metadata": {},
     "output_type": "execute_result"
    }
   ],
   "source": [
    "lin_reg.intercept_, lin_reg.coef_"
   ]
  },
  {
   "cell_type": "markdown",
   "metadata": {},
   "source": [
    "### Linear Regression with Regularization\n",
    "\n",
    "It is almost preferable to have at least a little bit of regularization. Ridge is a good default, if you suspect that only a few features are actually useful, you should prefer Lasso or Elastic Net since they tend to reduce the useless features weight down to zero. In general Elastic Net is preferred over Lasso since Lasso may behave erratically when the number of features is greater than the number of training instances or when several features are strongle correlated."
   ]
  },
  {
   "cell_type": "code",
   "execution_count": 28,
   "metadata": {},
   "outputs": [
    {
     "name": "stdout",
     "output_type": "stream",
     "text": [
      "Ridge Regression Model with Cholesky technique Alpha = 1\n",
      "RMSE: 32576.48945350783\n",
      "R2 Square 0.8479201195239232\n"
     ]
    }
   ],
   "source": [
    "#Ridge using a matrix factorization technique by André-Louis Cholesky\n",
    "\n",
    "print('Ridge Regression Model with Cholesky technique Alpha = 1')\n",
    "\n",
    "model_Ridge = Ridge(alpha=1, solver=\"cholesky\")\n",
    "model_Ridge.fit(X_train, y_train)\n",
    "pred = model_Ridge.predict(X_test)\n",
    "\n",
    "model_evaluation(y_test, pred)"
   ]
  },
  {
   "cell_type": "code",
   "execution_count": 29,
   "metadata": {},
   "outputs": [
    {
     "name": "stdout",
     "output_type": "stream",
     "text": [
      "Ridge Regression Model with Cholesky technique Alpha = 15\n",
      "RMSE: 32125.13112822326\n",
      "R2 Square 0.8521051614722613\n"
     ]
    }
   ],
   "source": [
    "print('Ridge Regression Model with Cholesky technique Alpha = 15')\n",
    "\n",
    "model_Ridge = Ridge(alpha=15, solver=\"cholesky\")\n",
    "model_Ridge.fit(X_train, y_train)\n",
    "pred = model_Ridge.predict(X_test)\n",
    "\n",
    "model_evaluation(y_test, pred)"
   ]
  },
  {
   "cell_type": "code",
   "execution_count": 30,
   "metadata": {},
   "outputs": [
    {
     "name": "stdout",
     "output_type": "stream",
     "text": [
      "Lasso Model\n",
      "RMSE: 32675.589823535076\n",
      "R2 Square 0.8469934330357595\n"
     ]
    },
    {
     "name": "stderr",
     "output_type": "stream",
     "text": [
      "C:\\Users\\ly580d\\AppData\\Local\\Continuum\\anaconda3\\lib\\site-packages\\sklearn\\linear_model\\coordinate_descent.py:491: ConvergenceWarning: Objective did not converge. You might want to increase the number of iterations. Fitting data with very small alpha may cause precision problems.\n",
      "  ConvergenceWarning)\n"
     ]
    }
   ],
   "source": [
    "#Ridge Lasso (Least Absolute Shrinkage and Selection Operator)\n",
    "#eliminates the weights of the least important features (sets them to 0)\n",
    "#automatically performs feature selection and outputs sparse model \n",
    "from sklearn.linear_model import Lasso\n",
    "print('Lasso Model')\n",
    "\n",
    "model_Lasso = Lasso(alpha=0.1)\n",
    "model_Lasso.fit(X_train, y_train)\n",
    "pred = model_Lasso.predict(X_test)\n",
    "\n",
    "model_evaluation(y_test, pred)"
   ]
  },
  {
   "cell_type": "code",
   "execution_count": 31,
   "metadata": {},
   "outputs": [
    {
     "data": {
      "text/plain": [
       "(531693.1912595248,\n",
       " array([ 2.06078840e+04,  1.06390503e+04,  1.60695727e+04,  8.37213747e+03,\n",
       "         4.06614477e+03,  1.05159640e+04,  2.77754887e+03,  3.40070134e+03,\n",
       "         2.70023516e+03,  3.78096584e+03,  4.24863066e+03,  4.26469499e+03,\n",
       "         4.40486545e+03,  4.96139789e+03,  1.32585962e+03,  2.55804888e+03,\n",
       "         2.07508537e+03,  1.17922624e+03,  5.10943430e+03,  1.03445153e+03,\n",
       "         3.69557018e+03,  5.40049685e+02,  2.77683905e+02,  7.45310027e+02,\n",
       "         4.16034455e+02, -1.54835653e+02, -6.78804464e+02,  2.10987131e+02,\n",
       "         4.16777837e+01,  4.26452968e+01,  3.87199188e+01,  6.22306976e+01,\n",
       "         2.83322005e+01,  2.18820540e+01,  1.82700979e+01, -7.99936108e+00,\n",
       "        -2.02093013e-01, -1.46362509e+01,  2.18089270e+00,  2.95973412e+00,\n",
       "         3.37153794e-01,  2.27657858e+00, -4.85248968e+00, -4.70265791e+00,\n",
       "        -2.95431095e+00, -8.70164827e+00, -3.22699268e-01,  2.84632820e+00,\n",
       "        -1.36294157e+03, -5.82702663e+01,  5.72265083e+02, -3.38988828e+02,\n",
       "        -1.29495439e+02, -7.77784724e+02, -9.80985802e+04,  9.17887661e+02,\n",
       "        -7.60433767e+01, -1.58268784e+01, -4.89076752e+02, -1.78021797e+03,\n",
       "         1.17167461e+02,  8.99186716e+02, -1.89903571e+03, -8.13164351e+02,\n",
       "        -2.30361529e+03, -5.07080763e+02, -6.89755254e+02, -2.37190798e+03,\n",
       "        -1.64000156e+03, -3.39130635e+02, -8.40096649e+02, -1.47888905e+03,\n",
       "        -9.43572868e+02, -2.80793717e+03, -3.79614675e+03, -8.65472735e+03,\n",
       "        -8.64575721e+03, -1.02464993e+04, -1.52725313e+04, -1.73352105e+04,\n",
       "        -5.59116687e+04]))"
      ]
     },
     "execution_count": 31,
     "metadata": {},
     "output_type": "execute_result"
    }
   ],
   "source": [
    "model_Lasso.intercept_, model_Lasso.coef_"
   ]
  },
  {
   "cell_type": "code",
   "execution_count": null,
   "metadata": {},
   "outputs": [],
   "source": []
  }
 ],
 "metadata": {
  "kernelspec": {
   "display_name": "Python 3",
   "language": "python",
   "name": "python3"
  },
  "language_info": {
   "codemirror_mode": {
    "name": "ipython",
    "version": 3
   },
   "file_extension": ".py",
   "mimetype": "text/x-python",
   "name": "python",
   "nbconvert_exporter": "python",
   "pygments_lexer": "ipython3",
   "version": "3.6.5"
  }
 },
 "nbformat": 4,
 "nbformat_minor": 4
}
